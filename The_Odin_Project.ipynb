{
 "cells": [
  {
   "cell_type": "markdown",
   "metadata": {},
   "source": [
    "# Foundations:"
   ]
  },
  {
   "cell_type": "markdown",
   "metadata": {},
   "source": [
    "### Working of the Internet:"
   ]
  },
  {
   "cell_type": "markdown",
   "metadata": {},
   "source": [
    "[Working of the internet](https://developer.mozilla.org/en-US/docs/Learn/Common_questions/Web_mechanics/How_does_the_Internet_work)\n",
    "\n",
    "* Routers: Instead of connecting computers to each other in a forest of series connections, a router acts as a central point which multiplexes information into the destination computer.  \n",
    "\n",
    "* Modem: It connects your home network to your telephone line, thus connecting your home snetwork to the rest of the world's, home network, forming the internet.  \n",
    "\n",
    "* ISP: They have routers that are connected to other ISP routers. \n",
    "\n",
    "[Domain Name](https://developer.mozilla.org/en-US/docs/Learn/Common_questions/Web_mechanics/What_is_a_domain_name#how_does_a_dns_request_work)\n",
    "\n",
    "* Domain Name: They are interchangable with the IP adress of a particular computer connected to the network. Ex - google can be reached via www.google.com or 142.250.190.78.\n",
    "\n",
    "* Structure of Domain Name: subdomain.domain_name.Top_Level_Domain, ex - www.developer.mozilla.com  \n",
    "\n",
    "* Finding Domain Registrar: ex - whois google.com  \n",
    "\n",
    "* DNS request: When you type a web adress such as mozilla.com, the browser will request the DNS server the IP of the computer behind the mozilla.com, so that the browser can connect to that IP.\n",
    "\n",
    "[The Web in Operation](https://developer.mozilla.org/en-US/docs/Learn/Getting_started_with_the_web/How_the_Web_works#clients_and_servers)\n",
    "\n",
    "* Servers vs Clients : Home computers are not servers as they are not connected to the internet directly, instead are routed through ISPs and thus are called clients. Servers are directly connected.  \n",
    "\n",
    "\n",
    "[Web elements](https://developer.mozilla.org/en-US/docs/Learn/Common_questions/Web_mechanics/Pages_sites_servers_and_search_engines)\n",
    "\n",
    "* Web page: A document that can be displayed on a browser.  \n",
    "\n",
    "* Website: A collection of webpages.\n",
    "\n",
    "* Web server: A computer hosting a website.\n",
    "\n",
    "* Search engine: A service that helps you find other web pages. \n",
    "\n",
    "* URLS: [URLs](https://developer.mozilla.org/en-US/docs/Web/URI)\n",
    "\n",
    "* HTTP: [HTTP](https://www.youtube.com/watch?v=qcALGDn0zpk)"
   ]
  },
  {
   "cell_type": "markdown",
   "metadata": {},
   "source": [
    "[Web Server](https://developer.mozilla.org/en-US/docs/Learn/Common_questions/Web_mechanics/Pages_sites_servers_and_search_engines)\n",
    "\n",
    "**Components:**\n",
    "* From the hardware standpoint, the webserver stores the server software and the website files.  \n",
    "\n",
    "* From the software side, the webserver contrls how web users access the hosted file. Ex - HTTP server: Accessed from the domain name/server IP, it controls URLs and HTTP requests.\n",
    "\n",
    "* HTTP: To access contents of the website, the browser sends across a HTTP request to the web server. The HTTP server accepts the request and sends the contents to the broswer through HTTP too. [HTTP](https://developer.mozilla.org/en-US/docs/Web/HTTP)\n",
    "\n",
    "**Server Types:**\n",
    "* Static: Computer + HTTP server. The hosted files are served as is.  \n",
    "\n",
    "* Dynamic: Computer + HTTP server + application server and databases. The application server updates the hosted files before sending content to the browser via HTTP server (it processes content on the fly)."
   ]
  },
  {
   "cell_type": "markdown",
   "metadata": {},
   "source": [
    "### Git, Github and CLI"
   ]
  },
  {
   "cell_type": "markdown",
   "metadata": {},
   "source": [
    "[Git basics](https://www.theodinproject.com/lessons/foundations-git-basics)\n",
    "\n",
    "* Always use CLI for github\n",
    "\n",
    "* Always clone repo from github, avoid init.\n",
    "\n",
    "* After Pushing to github, git status should output: “Your branch is up to date with ‘origin/main’. nothing to commit, working tree clean”.\n",
    "\n",
    "* For commit messages, metion the change and why the change as subject and body respecitvely in an active voice and keep a blank line between the subject and body (remove -m for this)."
   ]
  },
  {
   "cell_type": "code",
   "execution_count": null,
   "metadata": {
    "vscode": {
     "languageId": "shellscript"
    }
   },
   "outputs": [],
   "source": [
    "#File Creation:\n",
    "touch filename\n",
    "\n",
    "#Directory Creation:\n",
    "mkdir dirname\n",
    "mkdir -p parentdir/childdir #list nested directories\n",
    "\n",
    "#List files:\n",
    "ls \n",
    "ls -l #list with details\n",
    "ls -a #list hidden files\n",
    "\n",
    "#Removing Files:\n",
    "rm filename\n",
    "\n",
    "#Removing Directory:\n",
    "rm -r dirname\n",
    "\n",
    "#Renaming a file or directory\n",
    "rm oldname newname\n",
    "\n",
    "#Moving file or directory\n",
    "mv source destination\n",
    "\n",
    "#Viewing Contents of a file:\n",
    "cat filename"
   ]
  },
  {
   "cell_type": "code",
   "execution_count": null,
   "metadata": {
    "vscode": {
     "languageId": "shellscript"
    }
   },
   "outputs": [],
   "source": [
    "#Change directory\n",
    "cd dirname\n",
    "\n",
    "#Move to Parent Directory\n",
    "cd ..\n",
    "\n",
    "#Get current directory path \n",
    "pwd\n",
    "\n",
    "#Clearing Terminal\n",
    "clear\n",
    "\n",
    "#Go to home directory\n",
    "cd ~ \n",
    "\n",
    "#Go to directory inside home directory\n",
    "cd ~/Documents"
   ]
  },
  {
   "cell_type": "code",
   "execution_count": null,
   "metadata": {
    "vscode": {
     "languageId": "shellscript"
    }
   },
   "outputs": [],
   "source": [
    "#Initialising Repo\n",
    "git init\n",
    "\n",
    "#Clone a repo (Create on github and then clone)\n",
    "git clone repo_url\n",
    "\n",
    "#Checking status of repo\n",
    "git status\n",
    "\n",
    "#Add files for staging\n",
    "git add filename\n",
    "git add . #Add all files\n",
    "\n",
    "#Commit Changes\n",
    "git commit -m \"Commit message\"\n",
    "\n",
    "#Check commit history\n",
    "git log\n",
    "\n",
    "#Push changes to remote repository\n",
    "git push origin branch_name\n",
    "\n",
    "#Pull changes from remote repo\n",
    "git pull origin branch_name\n"
   ]
  },
  {
   "cell_type": "markdown",
   "metadata": {},
   "source": [
    "### HTML"
   ]
  },
  {
   "cell_type": "markdown",
   "metadata": {},
   "source": [
    "[HTML Intro](https://developer.mozilla.org/en-US/docs/Learn/HTML/Introduction_to_HTML/Getting_started#anatomy_of_an_html_element)  "
   ]
  },
  {
   "cell_type": "code",
   "execution_count": null,
   "metadata": {
    "vscode": {
     "languageId": "html"
    }
   },
   "outputs": [],
   "source": [
    "<!-- Boilerplate Page-->\n",
    "<!doctype html> \n",
    "<html lang=\"en-US\">\n",
    "  <head>\n",
    "    <meta charset=\"utf-8\" />\n",
    "    <title>My test page</title>\n",
    "  </head>\n",
    "  <body>\n",
    "    <p>This is my page</p>\n",
    "  </body>\n",
    "</html>"
   ]
  },
  {
   "cell_type": "markdown",
   "metadata": {},
   "source": [
    "* Extra whitespaces are ommitted by HTML when rendering, but when inner HTML is accessed by JS, the extra whitespaces will be included too.\n",
    "\n",
    "* To mention elements such as  < p> without rendering, use their char reference eqvt such as &lt for < . Ex - &lt;p&gt;"
   ]
  },
  {
   "cell_type": "markdown",
   "metadata": {},
   "source": [
    "[HTML Tags](https://developer.mozilla.org/en-US/docs/Web/HTML/Element)"
   ]
  },
  {
   "cell_type": "code",
   "execution_count": null,
   "metadata": {
    "vscode": {
     "languageId": "html"
    }
   },
   "outputs": [],
   "source": [
    "<!-- Paragraph Tag for Text, empty lines after each tag-->\n",
    "<p> Hi</p> \n",
    "\n",
    "<!-- Heading Tags -->\n",
    " <h1>Hi</h1>\n",
    " <h2></h2>\n",
    " <h3></h3>\n",
    "\n",
    "<!-- Strong Tag for making text bold  -->\n",
    " <strong>Hi</strong>\n",
    "\n",
    " <!-- Italic -->\n",
    "  <em>Hi</em>\n",
    "\n",
    "<!-- Unordered Lists -->\n",
    "<ul>\n",
    "    <li>Item 1</li>\n",
    "    <li>Item 2</li>\n",
    "    <li>Item 3</li>\n",
    "</ul>\n",
    " \n",
    "<!-- Ordered Lists -->\n",
    "<ol>\n",
    "    <li>Item 1</li>\n",
    "    <li>Item 2</li>\n",
    "    <li>Item 3</li>\n",
    "</ol>\n",
    "\n",
    "<!-- Anchor Tags: Hyperlinks that open on the same page -->\n",
    "<a href=\"https://www.theodinproject.com/about\">About TOP</a>\n",
    "\n",
    "<!-- Anchor Tags Hyperlinks that open on a new page, with rel attributes providing isolation between the pages,\n",
    "preventing the opened page from accessing the previous page -->\n",
    "<a href=\"https://www.theodinproject.com/about\" target=\"_blank\" rel=\"noopener noreferrer\">About The Odin Project</a>\n",
    "\n",
    "<!-- Absoulte links connect to webpages outside the website-->\n",
    "scheme://domain/path\n",
    "ex - https://www.theodinproject.com/about\n",
    "\n",
    "<!-- Relative links connect to internal webpages-->\n",
    "about.html (Same directory)\n",
    "pages/about.html (Pages folder is on the same directory)\n",
    "./pages/about.html (Use ./ to ensure the file is searched relative to current directory)\n",
    "\n",
    "../images/images/about.html (To access through parent directory)\n",
    "\n",
    "<!-- Images  -->\n",
    "<img src=\"https://www.theodinproject.com/mstile-310x310.png\" alt=\"Odin\" height=\"310\" width=\"200\">\n",
    "\n",
    "\n",
    "\n",
    "\n"
   ]
  }
 ],
 "metadata": {
  "kernelspec": {
   "display_name": "Python 3",
   "language": "python",
   "name": "python3"
  },
  "language_info": {
   "name": "python",
   "version": "3.9.6"
  }
 },
 "nbformat": 4,
 "nbformat_minor": 2
}
